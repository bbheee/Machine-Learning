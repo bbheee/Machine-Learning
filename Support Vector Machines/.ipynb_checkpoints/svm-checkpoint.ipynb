{
 "cells": [
  {
   "cell_type": "code",
   "execution_count": 1,
   "metadata": {},
   "outputs": [],
   "source": [
    "import numpy as np\n",
    "import random, math\n",
    "from scipy.optimize import minimize\n",
    "import matplotlib.pyplot as plt"
   ]
  },
  {
   "cell_type": "code",
   "execution_count": 2,
   "metadata": {},
   "outputs": [],
   "source": [
    "# generate dataset\n",
    "np.random.seed(100)\n",
    "classA = np.concatenate((np.random.randn(10, 2) * 0.2 + [1.5, 0.5], np.random.randn(10, 2) * 0.2 + [-1.5, 0.5]))\n",
    "classB = np.random.randn(20, 2) * 0.2 + [0.0, -0.5]\n",
    "inputs = np.concatenate((classA, classB))\n",
    "targets = np.concatenate((np.ones(classA.shape[0]), -np.ones(classB.shape[0])))\n",
    "N = inputs.shape[0]\n",
    "permute = list(range(N))\n",
    "random.shuffle(permute)\n",
    "inputs = inputs[permute, :]\n",
    "targets = targets[permute]"
   ]
  },
  {
   "cell_type": "code",
   "execution_count": 3,
   "metadata": {},
   "outputs": [],
   "source": [
    "# kernel functions\n",
    "def linearKernel(x, y):\n",
    "    return np.dot(x, y)\n",
    "\n",
    "def polynomialKernel(x, y, p = 3):\n",
    "    return np.power(np.dot(x, y) + 1, p)\n",
    "\n",
    "def rbfKernel(x, y, sigma = 2):\n",
    "    return math.exp(-np.dot(np.subtract(x, y), np.subtract(x, y)) / (2 * sigma * sigma))\n",
    "\n",
    "#kernel = linearKernel\n",
    "kernel = polynomialKernel\n",
    "#kernel = rbfKernel"
   ]
  },
  {
   "cell_type": "code",
   "execution_count": 4,
   "metadata": {},
   "outputs": [],
   "source": [
    "# P matrix\n",
    "PMatrix = np.zeros((N,N))\n",
    "for i in range(N):\n",
    "    for j in range(N):\n",
    "        PMatrix[i][j] = targets[i] * targets[j] * kernel(inputs[i], inputs[j])"
   ]
  },
  {
   "cell_type": "code",
   "execution_count": 5,
   "metadata": {},
   "outputs": [],
   "source": [
    "# zero function\n",
    "def zerofun(alpha):\n",
    "    return np.dot(alpha, targets)"
   ]
  },
  {
   "cell_type": "code",
   "execution_count": 6,
   "metadata": {},
   "outputs": [],
   "source": [
    "# objective function\n",
    "def objective(alpha):\n",
    "    return (1/2) * np.dot(alpha, np.dot(alpha, PMatrix)) - np.sum(alpha)"
   ]
  },
  {
   "cell_type": "code",
   "execution_count": 7,
   "metadata": {},
   "outputs": [],
   "source": [
    "# start is a vector with the initial guess of the alpha vector\n",
    "# N is the number of training samples\n",
    "start = np.zeros(N)\n",
    "C = 10000\n",
    "\n",
    "# B is a list of pairs of the same length as the alpha vector\n",
    "# upper bounds\n",
    "B = [(0, C) for b in range(N)]\n",
    "\n",
    "# lower bounds\n",
    "# B = [(0, None) for b in range(N)]\n",
    "\n",
    "# XC is used to impose other constraints besides the bounds\n",
    "XC = {'type':'eq', 'fun':zerofun}\n",
    "\n",
    "# minimize function\n",
    "ret = minimize(objective, start, bounds=B, constraints=XC)\n",
    "# index 'success' holds a boolean value\n",
    "if (not ret['success']):\n",
    "    raise ValueError('Optimizer cannot find a solution.')\n",
    "\n",
    "# extract non-zero alpha values\n",
    "alpha = ret['x']\n",
    "nonzero = [(alpha[i], inputs[i], targets[i]) for i in range(N) if abs(alpha[i]) > 10e-5]"
   ]
  },
  {
   "cell_type": "code",
   "execution_count": 8,
   "metadata": {},
   "outputs": [],
   "source": [
    "# b value\n",
    "def bValue():\n",
    "    bSum = 0\n",
    "    for value in nonzero:\n",
    "        bSum += value[0] * value[2] * kernel(value[1], nonzero[0][1])\n",
    "    return bSum - nonzero[0][2]"
   ]
  },
  {
   "cell_type": "code",
   "execution_count": 9,
   "metadata": {},
   "outputs": [],
   "source": [
    "# indicator function\n",
    "def indicator(x, y, b):\n",
    "    totalSum = 0\n",
    "    for value in nonzero:\n",
    "        totalSum += value[0] * value[2] * kernel([x, y], value[1])\n",
    "    return totalSum - b"
   ]
  },
  {
   "cell_type": "code",
   "execution_count": 10,
   "metadata": {},
   "outputs": [
    {
     "data": {
      "text/plain": [
       "<matplotlib.contour.QuadContourSet at 0x101837cdd8>"
      ]
     },
     "execution_count": 10,
     "metadata": {},
     "output_type": "execute_result"
    },
    {
     "data": {
      "image/png": "[encoded data removed]",
      "text/plain": [
       "<Figure size 432x288 with 1 Axes>"
      ]
     },
     "metadata": {
      "needs_background": "light"
     },
     "output_type": "display_data"
    }
   ],
   "source": [
    "b = bValue()\n",
    "\n",
    "# plotting\n",
    "plt.plot([p[0] for p in classA], [p[1] for p in classA], 'b.')\n",
    "plt.plot([p[0] for p in classB], [p[1] for p in classB], 'r.')\n",
    "\n",
    "xgrid = np.linspace(-5, 5)\n",
    "ygrid = np.linspace(-4, 4)\n",
    "grid = np.array([[indicator(x, y, b) for x in xgrid] for y in ygrid])\n",
    "plt.contour(xgrid, ygrid, grid, (-1.0,0.0,1.0), colors=('red','black','blue'), linewidths=(1,3,1))"
   ]
  }
 ],
 "metadata": {
  "kernelspec": {
   "display_name": "Python 3",
   "language": "python",
   "name": "python3"
  },
  "language_info": {
   "codemirror_mode": {
    "name": "ipython",
    "version": 3
   },
   "file_extension": ".py",
   "mimetype": "text/x-python",
   "name": "python",
   "nbconvert_exporter": "python",
   "pygments_lexer": "ipython3",
   "version": "3.7.3"
  }
 },
 "nbformat": 4,
 "nbformat_minor": 2
}
